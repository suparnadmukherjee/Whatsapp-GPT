{
 "cells": [
  {
   "cell_type": "markdown",
   "metadata": {},
   "source": [
    "https://www.geeksforgeeks.org/building-whatsapp-bot-on-python/"
   ]
  },
  {
   "cell_type": "code",
   "execution_count": null,
   "metadata": {},
   "outputs": [],
   "source": [
    "#!pip install twilio flask requests"
   ]
  },
  {
   "cell_type": "markdown",
   "metadata": {},
   "source": [
    "Creating a Flask Chatbot Service for running the bot locally:\n",
    "-------------------------------------------------------------------"
   ]
  },
  {
   "cell_type": "markdown",
   "metadata": {},
   "source": []
  },
  {
   "cell_type": "code",
   "execution_count": 7,
   "metadata": {},
   "outputs": [
    {
     "name": "stdout",
     "output_type": "stream",
     "text": [
      " * Serving Flask app '__main__'\n",
      " * Debug mode: off\n"
     ]
    },
    {
     "name": "stderr",
     "output_type": "stream",
     "text": [
      "\u001b[31m\u001b[1mWARNING: This is a development server. Do not use it in a production deployment. Use a production WSGI server instead.\u001b[0m\n",
      " * Running on http://127.0.0.1:5000\n",
      "\u001b[33mPress CTRL+C to quit\u001b[0m\n"
     ]
    },
    {
     "name": "stderr",
     "output_type": "stream",
     "text": [
      "127.0.0.1 - - [10/Jan/2024 11:52:15] \"\u001b[31m\u001b[1mGET / HTTP/1.1\u001b[0m\" 405 -\n"
     ]
    }
   ],
   "source": [
    "from flask import Flask\n",
    "from googlesearch import search\n",
    "import requests\n",
    "from twilio.twiml.messaging_response import MessagingResponse\n",
    "\n",
    "\n",
    "app = Flask(__name__)\n",
    "\n",
    "@app.route(\"/\", methods=[\"POST\"])\n",
    "\n",
    "# chatbot logic\n",
    "def bot():\n",
    "\n",
    "\t# user input\n",
    "\tuser_msg = requests.values.get('Body', '').lower()\n",
    "\n",
    "\t# creating object of MessagingResponse\n",
    "\tresponse = MessagingResponse()\n",
    "\n",
    "\t# User Query\n",
    "\tq = user_msg + \"geeksforgeeks.org\"\n",
    "\n",
    "\t# list to store urls\n",
    "\tresult = []\n",
    "\n",
    "\t# searching and storing urls\n",
    "\tfor i in search(q, num_results=3):\n",
    "\t\tresult.append(i)\n",
    "\n",
    "\t# displaying result\n",
    "\tmsg = response.message(f\"--- Results for '{user_msg}' ---\")\n",
    "\tfor search_results in result:\n",
    "\t\tmsg = response.message(search_results)\n",
    "\n",
    "\treturn str(response)\n",
    "\n",
    "\n",
    "if __name__ == \"__main__\":\n",
    "\tapp.run()\n"
   ]
  }
 ],
 "metadata": {
  "kernelspec": {
   "display_name": "gpt_whatsapp_0",
   "language": "python",
   "name": "python3"
  },
  "language_info": {
   "codemirror_mode": {
    "name": "ipython",
    "version": 3
   },
   "file_extension": ".py",
   "mimetype": "text/x-python",
   "name": "python",
   "nbconvert_exporter": "python",
   "pygments_lexer": "ipython3",
   "version": "3.9.18"
  }
 },
 "nbformat": 4,
 "nbformat_minor": 2
}
